{
 "cells": [
  {
   "cell_type": "markdown",
   "metadata": {},
   "source": [
    "1_ normalizar valores de columas\n",
    "2_ identificar nulos, faltantes y duplicados (contarlos y corregirlos)\n",
    "3_ extraer las columnas que serán usadas y crear los datasets finales (hacer un excel con las diferencias por sector por trimestre, otro con las diferencias por ciudad)"
   ]
  },
  {
   "cell_type": "code",
   "execution_count": 2,
   "metadata": {},
   "outputs": [],
   "source": [
    "import pandas as pd\n",
    "import numpy as np\n",
    "import matplotlib.pyplot as plt\n",
    "import warnings"
   ]
  },
  {
   "cell_type": "code",
   "execution_count": 3,
   "metadata": {},
   "outputs": [
    {
     "data": {
      "text/plain": [
       "['Acc_vel_loc_sinrangos',\n",
       " 'Velocidad_sin_Rangos',\n",
       " 'Accesos_tecnologia_localidad',\n",
       " 'Velocidad % por prov',\n",
       " 'Totales VMD',\n",
       " 'Totales Accesos Por Tecnología',\n",
       " 'Accesos Por Tecnología',\n",
       " 'Penetración-poblacion',\n",
       " 'Penetracion-hogares',\n",
       " 'Penetracion-totales',\n",
       " 'Totales Accesos por rango',\n",
       " 'Accesos por rangos',\n",
       " 'Dial-BAf',\n",
       " 'Totales Dial-BAf',\n",
       " 'Ingresos ']"
      ]
     },
     "execution_count": 3,
     "metadata": {},
     "output_type": "execute_result"
    }
   ],
   "source": [
    "sheets_int = pd.ExcelFile('C:/Python/Data Science/Proyecto_2/Datasets/Internet.xlsx').sheet_names\n",
    "sheets_int"
   ]
  },
  {
   "cell_type": "code",
   "execution_count": 4,
   "metadata": {},
   "outputs": [
    {
     "name": "stdout",
     "output_type": "stream",
     "text": [
      "    Año Trimestre        Provincia      ADSL  Cablemodem  Fibra óptica  \\\n",
      "0  2024         2     Buenos Aires  214055.0   2722466.0     1849476.0   \n",
      "1  2024         2  Capital Federal   54102.0   1144781.0      230402.0   \n",
      "\n",
      "   Wireless    Otros      Total  \n",
      "0  138638.0  64745.0  4989380.0  \n",
      "1    4493.0  29821.0  1463599.0  \n"
     ]
    }
   ],
   "source": [
    "df_int_accptech = pd.read_excel('C:/Python/Data Science/Proyecto_2/Datasets/Internet.xlsx', sheet_name='Accesos Por Tecnología')\n",
    "print(f'{df_int_accptech.head(2)}')"
   ]
  },
  {
   "cell_type": "code",
   "execution_count": 5,
   "metadata": {},
   "outputs": [
    {
     "name": "stdout",
     "output_type": "stream",
     "text": [
      "Dtype & Shape: \n",
      "Año              object\n",
      "Trimestre        object\n",
      "Provincia        object\n",
      "ADSL            float64\n",
      "Cablemodem      float64\n",
      "Fibra óptica    float64\n",
      "Wireless        float64\n",
      "Otros           float64\n",
      "Total           float64\n",
      "dtype: object(1009, 9)\n",
      "\n"
     ]
    }
   ],
   "source": [
    "print(f'Dtype & Shape: \\n{df_int_accptech.dtypes}{df_int_accptech.shape}\\n')"
   ]
  },
  {
   "cell_type": "code",
   "execution_count": 6,
   "metadata": {},
   "outputs": [
    {
     "name": "stdout",
     "output_type": "stream",
     "text": [
      "Duplicados:     0\n",
      "Nulos: \n",
      "Año             1\n",
      "Trimestre       1\n",
      "Provincia       2\n",
      "ADSL            2\n",
      "Cablemodem      2\n",
      "Fibra óptica    2\n",
      "Wireless        2\n",
      "Otros           2\n",
      "Total           2\n",
      "dtype: int64\n",
      "\n"
     ]
    }
   ],
   "source": [
    "print(f'Duplicados:     {df_int_accptech.duplicated().sum()}\\nNulos: \\n{df_int_accptech.isnull().sum()}\\n')"
   ]
  },
  {
   "cell_type": "code",
   "execution_count": 7,
   "metadata": {},
   "outputs": [
    {
     "name": "stdout",
     "output_type": "stream",
     "text": [
      "[2024 2023 2022 2021 2020 2019 '2019 *' 2018 2017 2016 2015 2014]\n",
      "[2 1 4 3 '3 *' '2 *' '1 *']\n"
     ]
    }
   ],
   "source": [
    "df_int_accptech.dropna(inplace=True)\n",
    "print(df_int_accptech['Año'].unique())\n",
    "print(df_int_accptech['Trimestre'].unique())\n"
   ]
  },
  {
   "cell_type": "code",
   "execution_count": 8,
   "metadata": {},
   "outputs": [],
   "source": [
    "df_int_accptech['Año'] = df_int_accptech['Año'].astype(str).str.replace(' *', '').astype(int)\n",
    "df_int_accptech['Trimestre'] = df_int_accptech['Trimestre'].astype(str).str.replace(' *', '').astype(int) "
   ]
  },
  {
   "cell_type": "code",
   "execution_count": 9,
   "metadata": {},
   "outputs": [
    {
     "data": {
      "text/html": [
       "<div>\n",
       "<style scoped>\n",
       "    .dataframe tbody tr th:only-of-type {\n",
       "        vertical-align: middle;\n",
       "    }\n",
       "\n",
       "    .dataframe tbody tr th {\n",
       "        vertical-align: top;\n",
       "    }\n",
       "\n",
       "    .dataframe thead th {\n",
       "        text-align: right;\n",
       "    }\n",
       "</style>\n",
       "<table border=\"1\" class=\"dataframe\">\n",
       "  <thead>\n",
       "    <tr style=\"text-align: right;\">\n",
       "      <th></th>\n",
       "      <th>Año</th>\n",
       "      <th>Trimestre</th>\n",
       "      <th>ADSL</th>\n",
       "      <th>Cablemodem</th>\n",
       "      <th>Fibra óptica</th>\n",
       "      <th>Wireless</th>\n",
       "      <th>Otros</th>\n",
       "      <th>Total</th>\n",
       "    </tr>\n",
       "  </thead>\n",
       "  <tbody>\n",
       "    <tr>\n",
       "      <th>count</th>\n",
       "      <td>1007.000000</td>\n",
       "      <td>1007.000000</td>\n",
       "      <td>1.007000e+03</td>\n",
       "      <td>1.007000e+03</td>\n",
       "      <td>1.007000e+03</td>\n",
       "      <td>1007.000000</td>\n",
       "      <td>1007.000000</td>\n",
       "      <td>1.007000e+03</td>\n",
       "    </tr>\n",
       "    <tr>\n",
       "      <th>mean</th>\n",
       "      <td>2018.756703</td>\n",
       "      <td>2.453823</td>\n",
       "      <td>1.129309e+05</td>\n",
       "      <td>1.821583e+05</td>\n",
       "      <td>4.855699e+04</td>\n",
       "      <td>12542.229394</td>\n",
       "      <td>6497.041708</td>\n",
       "      <td>3.626854e+05</td>\n",
       "    </tr>\n",
       "    <tr>\n",
       "      <th>std</th>\n",
       "      <td>3.036457</td>\n",
       "      <td>1.117190</td>\n",
       "      <td>2.362922e+05</td>\n",
       "      <td>4.460058e+05</td>\n",
       "      <td>1.758694e+05</td>\n",
       "      <td>20909.412762</td>\n",
       "      <td>11239.855091</td>\n",
       "      <td>7.773137e+05</td>\n",
       "    </tr>\n",
       "    <tr>\n",
       "      <th>min</th>\n",
       "      <td>2014.000000</td>\n",
       "      <td>1.000000</td>\n",
       "      <td>2.230000e+03</td>\n",
       "      <td>0.000000e+00</td>\n",
       "      <td>0.000000e+00</td>\n",
       "      <td>0.000000</td>\n",
       "      <td>2.000000</td>\n",
       "      <td>1.255700e+04</td>\n",
       "    </tr>\n",
       "    <tr>\n",
       "      <th>25%</th>\n",
       "      <td>2016.000000</td>\n",
       "      <td>1.000000</td>\n",
       "      <td>1.978950e+04</td>\n",
       "      <td>1.102050e+04</td>\n",
       "      <td>3.540000e+02</td>\n",
       "      <td>813.000000</td>\n",
       "      <td>334.500000</td>\n",
       "      <td>6.241150e+04</td>\n",
       "    </tr>\n",
       "    <tr>\n",
       "      <th>50%</th>\n",
       "      <td>2019.000000</td>\n",
       "      <td>2.000000</td>\n",
       "      <td>4.396700e+04</td>\n",
       "      <td>4.075000e+04</td>\n",
       "      <td>3.015000e+03</td>\n",
       "      <td>5224.000000</td>\n",
       "      <td>1920.000000</td>\n",
       "      <td>1.139150e+05</td>\n",
       "    </tr>\n",
       "    <tr>\n",
       "      <th>75%</th>\n",
       "      <td>2021.000000</td>\n",
       "      <td>3.000000</td>\n",
       "      <td>8.722000e+04</td>\n",
       "      <td>7.678350e+04</td>\n",
       "      <td>2.925700e+04</td>\n",
       "      <td>14367.500000</td>\n",
       "      <td>7548.000000</td>\n",
       "      <td>1.956520e+05</td>\n",
       "    </tr>\n",
       "    <tr>\n",
       "      <th>max</th>\n",
       "      <td>2024.000000</td>\n",
       "      <td>4.000000</td>\n",
       "      <td>1.586343e+06</td>\n",
       "      <td>2.797700e+06</td>\n",
       "      <td>1.849476e+06</td>\n",
       "      <td>138638.000000</td>\n",
       "      <td>73415.000000</td>\n",
       "      <td>5.011620e+06</td>\n",
       "    </tr>\n",
       "  </tbody>\n",
       "</table>\n",
       "</div>"
      ],
      "text/plain": [
       "               Año    Trimestre          ADSL    Cablemodem  Fibra óptica  \\\n",
       "count  1007.000000  1007.000000  1.007000e+03  1.007000e+03  1.007000e+03   \n",
       "mean   2018.756703     2.453823  1.129309e+05  1.821583e+05  4.855699e+04   \n",
       "std       3.036457     1.117190  2.362922e+05  4.460058e+05  1.758694e+05   \n",
       "min    2014.000000     1.000000  2.230000e+03  0.000000e+00  0.000000e+00   \n",
       "25%    2016.000000     1.000000  1.978950e+04  1.102050e+04  3.540000e+02   \n",
       "50%    2019.000000     2.000000  4.396700e+04  4.075000e+04  3.015000e+03   \n",
       "75%    2021.000000     3.000000  8.722000e+04  7.678350e+04  2.925700e+04   \n",
       "max    2024.000000     4.000000  1.586343e+06  2.797700e+06  1.849476e+06   \n",
       "\n",
       "            Wireless         Otros         Total  \n",
       "count    1007.000000   1007.000000  1.007000e+03  \n",
       "mean    12542.229394   6497.041708  3.626854e+05  \n",
       "std     20909.412762  11239.855091  7.773137e+05  \n",
       "min         0.000000      2.000000  1.255700e+04  \n",
       "25%       813.000000    334.500000  6.241150e+04  \n",
       "50%      5224.000000   1920.000000  1.139150e+05  \n",
       "75%     14367.500000   7548.000000  1.956520e+05  \n",
       "max    138638.000000  73415.000000  5.011620e+06  "
      ]
     },
     "execution_count": 9,
     "metadata": {},
     "output_type": "execute_result"
    }
   ],
   "source": [
    "df_int_accptech.describe()"
   ]
  },
  {
   "cell_type": "code",
   "execution_count": 10,
   "metadata": {},
   "outputs": [
    {
     "data": {
      "image/png": "[encoded data removed]",
      "text/plain": [
       "<Figure size 640x480 with 1 Axes>"
      ]
     },
     "metadata": {},
     "output_type": "display_data"
    }
   ],
   "source": [
    "plt.title('Grafico1')\n",
    "plt.hist(df_int_accptech['Total'], edgecolor='black', linewidth=1)\n",
    "plt.show()"
   ]
  },
  {
   "cell_type": "code",
   "execution_count": 11,
   "metadata": {},
   "outputs": [
    {
     "data": {
      "image/png": "[encoded data removed]",
      "text/plain": [
       "<Figure size 640x480 with 1 Axes>"
      ]
     },
     "metadata": {},
     "output_type": "display_data"
    }
   ],
   "source": [
    "plt.boxplot(df_int_accptech['Total'])\n",
    "plt.show()"
   ]
  },
  {
   "cell_type": "code",
   "execution_count": 12,
   "metadata": {},
   "outputs": [],
   "source": [
    "high_ = df_int_accptech['Total'].quantile(.75)\n",
    "low_ = df_int_accptech['Total'].quantile(.25)"
   ]
  },
  {
   "cell_type": "code",
   "execution_count": 13,
   "metadata": {},
   "outputs": [],
   "source": [
    "ub_outliers = (df_int_accptech['Total']>high_)"
   ]
  },
  {
   "cell_type": "code",
   "execution_count": 14,
   "metadata": {},
   "outputs": [
    {
     "name": "stdout",
     "output_type": "stream",
     "text": [
      "       Año  Trimestre        Provincia       ADSL  Cablemodem  Fibra óptica  \\\n",
      "0     2024          2     Buenos Aires   214055.0   2722466.0     1849476.0   \n",
      "1     2024          2  Capital Federal    54102.0   1144781.0      230402.0   \n",
      "5     2024          2          Córdoba    93483.0    443091.0      477504.0   \n",
      "7     2024          2       Entre Ríos    31335.0    158918.0       68540.0   \n",
      "12    2024          2          Mendoza    17671.0     66636.0      188815.0   \n",
      "...    ...        ...              ...        ...         ...           ...   \n",
      "979   2014          2         Santa Fe   324101.0    178495.0        3085.0   \n",
      "983   2014          1     Buenos Aires  1567685.0   1000879.0      120960.0   \n",
      "984   2014          1  Capital Federal   445569.0    820161.0       17767.0   \n",
      "988   2014          1          Córdoba   336841.0    225769.0         347.0   \n",
      "1003  2014          1         Santa Fe   322662.0    174296.0        3059.0   \n",
      "\n",
      "      Wireless    Otros      Total  \n",
      "0     138638.0  64745.0  4989380.0  \n",
      "1       4493.0  29821.0  1463599.0  \n",
      "5      62162.0   9534.0  1085774.0  \n",
      "7      23954.0  11564.0   294311.0  \n",
      "12     27606.0    925.0   301653.0  \n",
      "...        ...      ...        ...  \n",
      "979     6041.0    636.0   512358.0  \n",
      "983    16528.0  33824.0  2739876.0  \n",
      "984     1866.0  14555.0  1299918.0  \n",
      "988     3585.0    368.0   566910.0  \n",
      "1003    5951.0    644.0   506612.0  \n",
      "\n",
      "[252 rows x 9 columns]\n"
     ]
    }
   ],
   "source": [
    "outliers = df_int_accptech[ub_outliers]\n",
    "print(outliers)"
   ]
  },
  {
   "cell_type": "code",
   "execution_count": 16,
   "metadata": {},
   "outputs": [
    {
     "data": {
      "image/png": "[encoded data removed]",
      "text/plain": [
       "<Figure size 640x480 with 1 Axes>"
      ]
     },
     "metadata": {},
     "output_type": "display_data"
    }
   ],
   "source": [
    "plt.boxplot(outliers['Total'])\n",
    "plt.show()"
   ]
  }
 ],
 "metadata": {
  "kernelspec": {
   "display_name": "proyectodos",
   "language": "python",
   "name": "python3"
  },
  "language_info": {
   "codemirror_mode": {
    "name": "ipython",
    "version": 3
   },
   "file_extension": ".py",
   "mimetype": "text/x-python",
   "name": "python",
   "nbconvert_exporter": "python",
   "pygments_lexer": "ipython3",
   "version": "3.13.0"
  }
 },
 "nbformat": 4,
 "nbformat_minor": 2
}
