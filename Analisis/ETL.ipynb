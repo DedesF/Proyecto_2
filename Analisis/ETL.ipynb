{
 "cells": [
  {
   "cell_type": "markdown",
   "metadata": {},
   "source": [
    "1_ normalizar valores de columas\n",
    "2_ identificar nulos, faltantes y duplicados (contarlos y corregirlos)\n",
    "3_ extraer las columnas que serán usadas y crear los datasets finales (hacer un excel con las diferencias por sector por trimestre, otro con las diferencias por ciudad)"
   ]
  }
 ],
 "metadata": {
  "language_info": {
   "name": "python"
  }
 },
 "nbformat": 4,
 "nbformat_minor": 2
}
