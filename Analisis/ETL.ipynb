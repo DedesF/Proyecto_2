{
 "cells": [
  {
   "cell_type": "markdown",
   "metadata": {},
   "source": [
    "El ETL será enfocado en la evolución y el crecimiento de los servicios de telecomunicaciones"
   ]
  },
  {
   "cell_type": "code",
   "execution_count": 1,
   "metadata": {},
   "outputs": [],
   "source": [
    "#Importamos las librerías que serán usadas para el ETL\n",
    "import pandas as pd  #Pandas para el tratamiento de los datasets\n",
    "import matplotlib.pyplot as plt #Pyplot para graficar los datos\n",
    "from statistics import median #importamos el módulo estadístico de python"
   ]
  },
  {
   "cell_type": "code",
   "execution_count": 2,
   "metadata": {},
   "outputs": [
    {
     "data": {
      "text/plain": [
       "['Acc_vel_loc_sinrangos',\n",
       " 'Velocidad_sin_Rangos',\n",
       " 'Accesos_tecnologia_localidad',\n",
       " 'Velocidad % por prov',\n",
       " 'Totales VMD',\n",
       " 'Totales Accesos Por Tecnología',\n",
       " 'Accesos Por Tecnología',\n",
       " 'Penetración-poblacion',\n",
       " 'Penetracion-hogares',\n",
       " 'Penetracion-totales',\n",
       " 'Totales Accesos por rango',\n",
       " 'Accesos por rangos',\n",
       " 'Dial-BAf',\n",
       " 'Totales Dial-BAf',\n",
       " 'Ingresos ']"
      ]
     },
     "execution_count": 2,
     "metadata": {},
     "output_type": "execute_result"
    }
   ],
   "source": [
    "#Se accede al dataset 'internet' y se accede al nombre de cada una de las hojas\n",
    "sheets_int = pd.ExcelFile('C:/Python/Data Science/Proyecto_2/Datasets/Internet.xlsx').sheet_names\n",
    "sheets_int"
   ]
  },
  {
   "cell_type": "code",
   "execution_count": 3,
   "metadata": {},
   "outputs": [
    {
     "name": "stdout",
     "output_type": "stream",
     "text": [
      "    Año Trimestre        Provincia      ADSL  Cablemodem  Fibra óptica  \\\n",
      "0  2024         2     Buenos Aires  214055.0   2722466.0     1849476.0   \n",
      "1  2024         2  Capital Federal   54102.0   1144781.0      230402.0   \n",
      "\n",
      "   Wireless    Otros      Total  \n",
      "0  138638.0  64745.0  4989380.0  \n",
      "1    4493.0  29821.0  1463599.0  \n"
     ]
    }
   ],
   "source": [
    "#Importamos el excel y el dataset de la hoja 'Accesos Por Tecnología' que muestra los registros trimestrales por tipo de acceso de la población\n",
    "df_int_accptech = pd.read_excel('C:/Python/Data Science/Proyecto_2/Datasets/Internet.xlsx', sheet_name='Accesos Por Tecnología')\n",
    "print(f'{df_int_accptech.head(2)}')"
   ]
  },
  {
   "cell_type": "code",
   "execution_count": 4,
   "metadata": {},
   "outputs": [
    {
     "name": "stdout",
     "output_type": "stream",
     "text": [
      "Dtype & Shape: \n",
      "Año              object\n",
      "Trimestre        object\n",
      "Provincia        object\n",
      "ADSL            float64\n",
      "Cablemodem      float64\n",
      "Fibra óptica    float64\n",
      "Wireless        float64\n",
      "Otros           float64\n",
      "Total           float64\n",
      "dtype: object(1009, 9)\n",
      "\n"
     ]
    }
   ],
   "source": [
    "#Revisamos el tipo de datos de las columnas y la dimención\n",
    "print(f'Dtype & Shape: \\n{df_int_accptech.dtypes}{df_int_accptech.shape}\\n')"
   ]
  },
  {
   "cell_type": "code",
   "execution_count": 5,
   "metadata": {},
   "outputs": [
    {
     "name": "stdout",
     "output_type": "stream",
     "text": [
      "Duplicados:     0\n",
      "Nulos: \n",
      "Año             1\n",
      "Trimestre       1\n",
      "Provincia       2\n",
      "ADSL            2\n",
      "Cablemodem      2\n",
      "Fibra óptica    2\n",
      "Wireless        2\n",
      "Otros           2\n",
      "Total           2\n",
      "dtype: int64\n",
      "\n"
     ]
    }
   ],
   "source": [
    "#Determinamos si hay duplicados y nulos en el dataframe\n",
    "print(f'Duplicados:     {df_int_accptech.duplicated().sum()}\\nNulos: \\n{df_int_accptech.isnull().sum()}\\n')"
   ]
  },
  {
   "cell_type": "code",
   "execution_count": 6,
   "metadata": {},
   "outputs": [
    {
     "name": "stdout",
     "output_type": "stream",
     "text": [
      "[2024 2023 2022 2021 2020 2019 '2019 *' 2018 2017 2016 2015 2014]\n",
      "[2 1 4 3 '3 *' '2 *' '1 *']\n"
     ]
    }
   ],
   "source": [
    "#En el tratamiento de los nulos se observa que hay valores con asteriscos que indican una observación dejada por el cliente\n",
    "df_int_accptech.dropna(inplace=True)\n",
    "print(df_int_accptech['Año'].unique())\n",
    "print(df_int_accptech['Trimestre'].unique())\n"
   ]
  },
  {
   "cell_type": "code",
   "execution_count": 7,
   "metadata": {},
   "outputs": [],
   "source": [
    "#Quitamos los asteriscos para normalizar el dataframe\n",
    "df_int_accptech['Año'] = df_int_accptech['Año'].astype(str).str.replace(' *', '').astype(int)\n",
    "df_int_accptech['Trimestre'] = df_int_accptech['Trimestre'].astype(str).str.replace(' *', '').astype(int) "
   ]
  },
  {
   "cell_type": "code",
   "execution_count": 8,
   "metadata": {},
   "outputs": [
    {
     "data": {
      "text/html": [
       "<div>\n",
       "<style scoped>\n",
       "    .dataframe tbody tr th:only-of-type {\n",
       "        vertical-align: middle;\n",
       "    }\n",
       "\n",
       "    .dataframe tbody tr th {\n",
       "        vertical-align: top;\n",
       "    }\n",
       "\n",
       "    .dataframe thead th {\n",
       "        text-align: right;\n",
       "    }\n",
       "</style>\n",
       "<table border=\"1\" class=\"dataframe\">\n",
       "  <thead>\n",
       "    <tr style=\"text-align: right;\">\n",
       "      <th></th>\n",
       "      <th>ADSL</th>\n",
       "      <th>Cablemodem</th>\n",
       "      <th>Fibra óptica</th>\n",
       "      <th>Wireless</th>\n",
       "      <th>Otros</th>\n",
       "      <th>Total</th>\n",
       "    </tr>\n",
       "  </thead>\n",
       "  <tbody>\n",
       "    <tr>\n",
       "      <th>count</th>\n",
       "      <td>1.007000e+03</td>\n",
       "      <td>1.007000e+03</td>\n",
       "      <td>1.007000e+03</td>\n",
       "      <td>1007.000000</td>\n",
       "      <td>1007.000000</td>\n",
       "      <td>1.007000e+03</td>\n",
       "    </tr>\n",
       "    <tr>\n",
       "      <th>mean</th>\n",
       "      <td>1.129309e+05</td>\n",
       "      <td>1.821583e+05</td>\n",
       "      <td>4.855699e+04</td>\n",
       "      <td>12542.229394</td>\n",
       "      <td>6497.041708</td>\n",
       "      <td>3.626854e+05</td>\n",
       "    </tr>\n",
       "    <tr>\n",
       "      <th>std</th>\n",
       "      <td>2.362922e+05</td>\n",
       "      <td>4.460058e+05</td>\n",
       "      <td>1.758694e+05</td>\n",
       "      <td>20909.412762</td>\n",
       "      <td>11239.855091</td>\n",
       "      <td>7.773137e+05</td>\n",
       "    </tr>\n",
       "    <tr>\n",
       "      <th>min</th>\n",
       "      <td>2.230000e+03</td>\n",
       "      <td>0.000000e+00</td>\n",
       "      <td>0.000000e+00</td>\n",
       "      <td>0.000000</td>\n",
       "      <td>2.000000</td>\n",
       "      <td>1.255700e+04</td>\n",
       "    </tr>\n",
       "    <tr>\n",
       "      <th>25%</th>\n",
       "      <td>1.978950e+04</td>\n",
       "      <td>1.102050e+04</td>\n",
       "      <td>3.540000e+02</td>\n",
       "      <td>813.000000</td>\n",
       "      <td>334.500000</td>\n",
       "      <td>6.241150e+04</td>\n",
       "    </tr>\n",
       "    <tr>\n",
       "      <th>50%</th>\n",
       "      <td>4.396700e+04</td>\n",
       "      <td>4.075000e+04</td>\n",
       "      <td>3.015000e+03</td>\n",
       "      <td>5224.000000</td>\n",
       "      <td>1920.000000</td>\n",
       "      <td>1.139150e+05</td>\n",
       "    </tr>\n",
       "    <tr>\n",
       "      <th>75%</th>\n",
       "      <td>8.722000e+04</td>\n",
       "      <td>7.678350e+04</td>\n",
       "      <td>2.925700e+04</td>\n",
       "      <td>14367.500000</td>\n",
       "      <td>7548.000000</td>\n",
       "      <td>1.956520e+05</td>\n",
       "    </tr>\n",
       "    <tr>\n",
       "      <th>max</th>\n",
       "      <td>1.586343e+06</td>\n",
       "      <td>2.797700e+06</td>\n",
       "      <td>1.849476e+06</td>\n",
       "      <td>138638.000000</td>\n",
       "      <td>73415.000000</td>\n",
       "      <td>5.011620e+06</td>\n",
       "    </tr>\n",
       "  </tbody>\n",
       "</table>\n",
       "</div>"
      ],
      "text/plain": [
       "               ADSL    Cablemodem  Fibra óptica       Wireless         Otros  \\\n",
       "count  1.007000e+03  1.007000e+03  1.007000e+03    1007.000000   1007.000000   \n",
       "mean   1.129309e+05  1.821583e+05  4.855699e+04   12542.229394   6497.041708   \n",
       "std    2.362922e+05  4.460058e+05  1.758694e+05   20909.412762  11239.855091   \n",
       "min    2.230000e+03  0.000000e+00  0.000000e+00       0.000000      2.000000   \n",
       "25%    1.978950e+04  1.102050e+04  3.540000e+02     813.000000    334.500000   \n",
       "50%    4.396700e+04  4.075000e+04  3.015000e+03    5224.000000   1920.000000   \n",
       "75%    8.722000e+04  7.678350e+04  2.925700e+04   14367.500000   7548.000000   \n",
       "max    1.586343e+06  2.797700e+06  1.849476e+06  138638.000000  73415.000000   \n",
       "\n",
       "              Total  \n",
       "count  1.007000e+03  \n",
       "mean   3.626854e+05  \n",
       "std    7.773137e+05  \n",
       "min    1.255700e+04  \n",
       "25%    6.241150e+04  \n",
       "50%    1.139150e+05  \n",
       "75%    1.956520e+05  \n",
       "max    5.011620e+06  "
      ]
     },
     "execution_count": 8,
     "metadata": {},
     "output_type": "execute_result"
    }
   ],
   "source": [
    "#Guardamos el dataframe normalizado para poder acceder a él luego\n",
    "df_int_accptech.to_excel('C:/Python/Data Science/Proyecto_2/Datasets/Acceso por tecnologias.xlsx', index=False)\n",
    "df_int_accptech[['ADSL', 'Cablemodem','Fibra óptica', 'Wireless', 'Otros', 'Total']].describe() #Generamos valores de estadística descriptiva"
   ]
  },
  {
   "cell_type": "code",
   "execution_count": 9,
   "metadata": {},
   "outputs": [
    {
     "data": {
      "image/png": "[encoded data removed]",
      "text/plain": [
       "<Figure size 640x480 with 1 Axes>"
      ]
     },
     "metadata": {},
     "output_type": "display_data"
    }
   ],
   "source": [
    "#Graficamos y observamos que la mayor ocurrencia de accesos se produce en el primer \n",
    "#rango de 1x10^6 y conforman una distribución fuertemente sesgada a la izquierda\n",
    "plt.title('Accesos Por Tecnología')\n",
    "plt.hist(x=df_int_accptech['Total']/10**6, edgecolor='black', linewidth=1, rwidth=0.9)\n",
    "plt.xlabel('Accesos totales /10^6')\n",
    "plt.ylabel('Ocurrencias')\n",
    "plt.show()"
   ]
  },
  {
   "cell_type": "code",
   "execution_count": 10,
   "metadata": {},
   "outputs": [
    {
     "name": "stdout",
     "output_type": "stream",
     "text": [
      " la mediana es 113915.0\n"
     ]
    }
   ],
   "source": [
    "#Debido al fuerte sesgo a la izquiera de la distribución el valor más representativo del conjunto de datos correspondería a la mediana\n",
    "print(f' la mediana es {median(df_int_accptech['Total'])}')"
   ]
  },
  {
   "cell_type": "code",
   "execution_count": 11,
   "metadata": {},
   "outputs": [
    {
     "data": {
      "image/png": "[encoded data removed]",
      "text/plain": [
       "<Figure size 640x480 with 1 Axes>"
      ]
     },
     "metadata": {},
     "output_type": "display_data"
    }
   ],
   "source": [
    "#El gráfico de cajas nos permite ver con más claridad la distribución de los datos\n",
    "plt.boxplot(df_int_accptech['Total']/10**6)\n",
    "plt.title('Cantidad de accesos a servicios')\n",
    "plt.xlabel('Accesos totales')\n",
    "plt.ylabel('valores /10^6')\n",
    "plt.show()"
   ]
  },
  {
   "cell_type": "markdown",
   "metadata": {},
   "source": [
    "**Disclaimer: Los siguientes datasets no continene valores nulos o duplicados y además las columnas tienen los formatos correctos**"
   ]
  },
  {
   "cell_type": "code",
   "execution_count": 12,
   "metadata": {},
   "outputs": [
    {
     "name": "stdout",
     "output_type": "stream",
     "text": [
      "Shape: (1000, 4)\n",
      "\n",
      "    Año  Trimestre        Provincia  Accesos por cada 100 hab\n",
      "0  2024          2     Buenos Aires                     27.43\n",
      "1  2024          2  Capital Federal                     47.44\n"
     ]
    }
   ],
   "source": [
    "df_int_penpob = pd.read_excel('C:/Python/Data Science/Proyecto_2/Datasets/Internet.xlsx', sheet_name='Penetración-poblacion')\n",
    "print(f'Shape: {df_int_penpob.shape}\\n')\n",
    "print(f'{df_int_penpob.head(2)}')"
   ]
  },
  {
   "cell_type": "code",
   "execution_count": 13,
   "metadata": {},
   "outputs": [
    {
     "data": {
      "text/plain": [
       "count    1000.000000\n",
       "mean       15.727248\n",
       "std         9.240063\n",
       "min         2.723000\n",
       "25%         9.018188\n",
       "50%        13.674812\n",
       "75%        20.323973\n",
       "max        52.236739\n",
       "Name: Accesos por cada 100 hab, dtype: float64"
      ]
     },
     "execution_count": 13,
     "metadata": {},
     "output_type": "execute_result"
    }
   ],
   "source": [
    "df_int_penpob['Accesos por cada 100 hab'].describe()"
   ]
  },
  {
   "cell_type": "markdown",
   "metadata": {},
   "source": [
    "Graficamos y observamos que la mayor ocurrencia de accesos se produce en el primer rango de 1x10^6 y conforman una distribución fuertemente sesgada a la izquierda"
   ]
  },
  {
   "cell_type": "code",
   "execution_count": 14,
   "metadata": {},
   "outputs": [
    {
     "data": {
      "image/png": "[encoded data removed]",
      "text/plain": [
       "<Figure size 640x480 with 1 Axes>"
      ]
     },
     "metadata": {},
     "output_type": "display_data"
    }
   ],
   "source": [
    "plt.title('Penetración en la poblacion')\n",
    "plt.hist(x=df_int_penpob['Accesos por cada 100 hab'], edgecolor='black', linewidth=1, rwidth=0.9)\n",
    "plt.xlabel('Accesos por cada 100 habitantes')\n",
    "plt.ylabel('Ocurrencias')\n",
    "plt.show()"
   ]
  },
  {
   "cell_type": "code",
   "execution_count": 15,
   "metadata": {},
   "outputs": [
    {
     "name": "stdout",
     "output_type": "stream",
     "text": [
      " la mediana es 13.6748115585677\n"
     ]
    }
   ],
   "source": [
    "#Debido al sesgo a la izquiera de la distribución el valor más representativo del conjunto de datos correspondería a la mediana\n",
    "print(f' la mediana es {median(df_int_penpob['Accesos por cada 100 hab'])}')"
   ]
  },
  {
   "cell_type": "code",
   "execution_count": 16,
   "metadata": {},
   "outputs": [
    {
     "data": {
      "image/png": "[encoded data removed]",
      "text/plain": [
       "<Figure size 640x480 with 1 Axes>"
      ]
     },
     "metadata": {},
     "output_type": "display_data"
    }
   ],
   "source": [
    "plt.boxplot(df_int_penpob['Accesos por cada 100 hab'])\n",
    "plt.title('Cantidad de accesos a servicios')\n",
    "plt.xlabel('Accesos por cada 100 habitantes')\n",
    "plt.ylabel('Valor')\n",
    "plt.show()"
   ]
  },
  {
   "cell_type": "code",
   "execution_count": 17,
   "metadata": {},
   "outputs": [
    {
     "name": "stdout",
     "output_type": "stream",
     "text": [
      "Shape: (1000, 4)\n",
      "\n",
      "    Año  Trimestre        Provincia  Accesos por cada 100 hogares\n",
      "0  2024          2     Buenos Aires                         79.84\n",
      "1  2024          2  Capital Federal                        116.37\n"
     ]
    }
   ],
   "source": [
    "df_int_penhog = pd.read_excel('C:/Python/Data Science/Proyecto_2/Datasets/Internet.xlsx', sheet_name='Penetracion-hogares')\n",
    "print(f'Shape: {df_int_penhog.shape}\\n')\n",
    "print(f'{df_int_penhog.head(2)}')"
   ]
  },
  {
   "cell_type": "code",
   "execution_count": 18,
   "metadata": {},
   "outputs": [
    {
     "data": {
      "text/plain": [
       "count    1000.000000\n",
       "mean       52.794973\n",
       "std        24.135063\n",
       "min         9.513970\n",
       "25%        33.957657\n",
       "50%        50.133004\n",
       "75%        67.010861\n",
       "max       124.061394\n",
       "Name: Accesos por cada 100 hogares, dtype: float64"
      ]
     },
     "execution_count": 18,
     "metadata": {},
     "output_type": "execute_result"
    }
   ],
   "source": [
    "df_int_penhog['Accesos por cada 100 hogares'].describe()"
   ]
  },
  {
   "cell_type": "code",
   "execution_count": 19,
   "metadata": {},
   "outputs": [
    {
     "data": {
      "image/png": "[encoded data removed]",
      "text/plain": [
       "<Figure size 640x480 with 1 Axes>"
      ]
     },
     "metadata": {},
     "output_type": "display_data"
    }
   ],
   "source": [
    "plt.title('Penetración en los hogares')\n",
    "plt.hist(x=df_int_penhog['Accesos por cada 100 hogares'], edgecolor='black', linewidth=1, rwidth=0.9)\n",
    "plt.xlabel('Accesos por cada 100 hogares')\n",
    "plt.ylabel('Ocurrencias')\n",
    "plt.show()"
   ]
  },
  {
   "cell_type": "code",
   "execution_count": 20,
   "metadata": {},
   "outputs": [
    {
     "name": "stdout",
     "output_type": "stream",
     "text": [
      " la mediana es 50.13300393013305\n"
     ]
    }
   ],
   "source": [
    "print(f' la mediana es {median(df_int_penhog['Accesos por cada 100 hogares'])}')"
   ]
  },
  {
   "cell_type": "code",
   "execution_count": 21,
   "metadata": {},
   "outputs": [
    {
     "data": {
      "image/png": "[encoded data removed]",
      "text/plain": [
       "<Figure size 640x480 with 1 Axes>"
      ]
     },
     "metadata": {},
     "output_type": "display_data"
    }
   ],
   "source": [
    "plt.boxplot(df_int_penhog['Accesos por cada 100 hogares'])\n",
    "plt.title('Cantidad de accesos a servicios')\n",
    "plt.xlabel('Accesos por cada 100 hogares')\n",
    "plt.ylabel('Valor')\n",
    "plt.show()"
   ]
  },
  {
   "cell_type": "code",
   "execution_count": 22,
   "metadata": {},
   "outputs": [
    {
     "name": "stdout",
     "output_type": "stream",
     "text": [
      "Shape: (1008, 4)\n",
      "\n",
      "    Año  Trimestre        Provincia  Mbps (Media de bajada)\n",
      "0  2024          2     Buenos Aires                  157.41\n",
      "1  2024          2  Capital Federal                  233.01\n"
     ]
    }
   ],
   "source": [
    "df_int_velprov = pd.read_excel('C:/Python/Data Science/Proyecto_2/Datasets/Internet.xlsx', sheet_name='Velocidad % por prov')\n",
    "print(f'Shape: {df_int_velprov.shape}\\n')\n",
    "print(f'{df_int_velprov.head(2)}')"
   ]
  },
  {
   "cell_type": "code",
   "execution_count": 23,
   "metadata": {},
   "outputs": [
    {
     "data": {
      "text/plain": [
       "count    1008.000000\n",
       "mean       24.720245\n",
       "std        33.660764\n",
       "min         2.573729\n",
       "25%         4.866698\n",
       "50%        10.089315\n",
       "75%        29.875292\n",
       "max       234.440000\n",
       "Name: Mbps (Media de bajada), dtype: float64"
      ]
     },
     "execution_count": 23,
     "metadata": {},
     "output_type": "execute_result"
    }
   ],
   "source": [
    "df_int_velprov['Mbps (Media de bajada)'].describe()"
   ]
  },
  {
   "cell_type": "code",
   "execution_count": 24,
   "metadata": {},
   "outputs": [
    {
     "data": {
      "image/png": "[encoded data removed]",
      "text/plain": [
       "<Figure size 640x480 with 1 Axes>"
      ]
     },
     "metadata": {},
     "output_type": "display_data"
    }
   ],
   "source": [
    "plt.title('Velocidad de descarga')\n",
    "plt.hist(x=df_int_velprov['Mbps (Media de bajada)'], edgecolor='black', linewidth=1, rwidth=0.9)\n",
    "plt.xlabel('Velocidad media de descarga')\n",
    "plt.ylabel('Ocurrencias')\n",
    "plt.show()"
   ]
  },
  {
   "cell_type": "code",
   "execution_count": 25,
   "metadata": {},
   "outputs": [
    {
     "name": "stdout",
     "output_type": "stream",
     "text": [
      " la mediana es 10.0893152724169\n"
     ]
    }
   ],
   "source": [
    "print(f' la mediana es {median(df_int_velprov['Mbps (Media de bajada)'])}')"
   ]
  },
  {
   "cell_type": "code",
   "execution_count": 26,
   "metadata": {},
   "outputs": [
    {
     "data": {
      "image/png": "[encoded data removed]",
      "text/plain": [
       "<Figure size 640x480 with 1 Axes>"
      ]
     },
     "metadata": {},
     "output_type": "display_data"
    }
   ],
   "source": [
    "plt.boxplot(df_int_velprov['Mbps (Media de bajada)'])\n",
    "plt.title('Velocidad de descarga')\n",
    "plt.xlabel('Velocidad media de descarga')\n",
    "plt.ylabel('Valor')\n",
    "plt.show()"
   ]
  },
  {
   "cell_type": "code",
   "execution_count": 27,
   "metadata": {},
   "outputs": [
    {
     "data": {
      "text/plain": [
       "['Fija_prov_tipo',\n",
       " 'Fija_accesos_tot',\n",
       " 'Fija_penetracion_prov',\n",
       " 'Fija_penetracion_tot',\n",
       " 'Fija_ingresos']"
      ]
     },
     "execution_count": 27,
     "metadata": {},
     "output_type": "execute_result"
    }
   ],
   "source": [
    "sheets_teffija = pd.ExcelFile('C:/Python/Data Science/Proyecto_2/Datasets/telefonia_fija.xlsx').sheet_names\n",
    "sheets_teffija"
   ]
  },
  {
   "cell_type": "code",
   "execution_count": 28,
   "metadata": {},
   "outputs": [
    {
     "name": "stdout",
     "output_type": "stream",
     "text": [
      "Shape: (1008, 5)\n",
      "\n",
      "    Año  Trimestre        Provincia  Accesos telefonía fija por cada 100 hab  \\\n",
      "0  2014          1     Buenos Aires                                26.717541   \n",
      "1  2014          1  Capital Federal                                52.663108   \n",
      "\n",
      "   Accesos telefonía fija por cada 100 hogares  \n",
      "0                                    85.264880  \n",
      "1                                   128.570341  \n"
     ]
    }
   ],
   "source": [
    "df_teffija_penprov = pd.read_excel('C:/Python/Data Science/Proyecto_2/Datasets/telefonia_fija.xlsx', sheet_name='Fija_penetracion_prov')\n",
    "print(f'Shape: {df_teffija_penprov.shape}\\n')\n",
    "print(f'{df_teffija_penprov.head(2)}')"
   ]
  },
  {
   "cell_type": "code",
   "execution_count": 29,
   "metadata": {},
   "outputs": [
    {
     "data": {
      "text/html": [
       "<div>\n",
       "<style scoped>\n",
       "    .dataframe tbody tr th:only-of-type {\n",
       "        vertical-align: middle;\n",
       "    }\n",
       "\n",
       "    .dataframe tbody tr th {\n",
       "        vertical-align: top;\n",
       "    }\n",
       "\n",
       "    .dataframe thead th {\n",
       "        text-align: right;\n",
       "    }\n",
       "</style>\n",
       "<table border=\"1\" class=\"dataframe\">\n",
       "  <thead>\n",
       "    <tr style=\"text-align: right;\">\n",
       "      <th></th>\n",
       "      <th>Accesos telefonía fija por cada 100 hab</th>\n",
       "      <th>Accesos telefonía fija por cada 100 hogares</th>\n",
       "    </tr>\n",
       "  </thead>\n",
       "  <tbody>\n",
       "    <tr>\n",
       "      <th>count</th>\n",
       "      <td>1008.000000</td>\n",
       "      <td>1008.000000</td>\n",
       "    </tr>\n",
       "    <tr>\n",
       "      <th>mean</th>\n",
       "      <td>13.608826</td>\n",
       "      <td>45.230426</td>\n",
       "    </tr>\n",
       "    <tr>\n",
       "      <th>std</th>\n",
       "      <td>9.236039</td>\n",
       "      <td>22.239948</td>\n",
       "    </tr>\n",
       "    <tr>\n",
       "      <th>min</th>\n",
       "      <td>3.588433</td>\n",
       "      <td>14.032975</td>\n",
       "    </tr>\n",
       "    <tr>\n",
       "      <th>25%</th>\n",
       "      <td>7.665753</td>\n",
       "      <td>29.258913</td>\n",
       "    </tr>\n",
       "    <tr>\n",
       "      <th>50%</th>\n",
       "      <td>10.679524</td>\n",
       "      <td>38.649369</td>\n",
       "    </tr>\n",
       "    <tr>\n",
       "      <th>75%</th>\n",
       "      <td>17.377891</td>\n",
       "      <td>56.580349</td>\n",
       "    </tr>\n",
       "    <tr>\n",
       "      <th>max</th>\n",
       "      <td>57.859352</td>\n",
       "      <td>138.277049</td>\n",
       "    </tr>\n",
       "  </tbody>\n",
       "</table>\n",
       "</div>"
      ],
      "text/plain": [
       "       Accesos telefonía fija por cada 100 hab  \\\n",
       "count                              1008.000000   \n",
       "mean                                 13.608826   \n",
       "std                                   9.236039   \n",
       "min                                   3.588433   \n",
       "25%                                   7.665753   \n",
       "50%                                  10.679524   \n",
       "75%                                  17.377891   \n",
       "max                                  57.859352   \n",
       "\n",
       "       Accesos telefonía fija por cada 100 hogares  \n",
       "count                                  1008.000000  \n",
       "mean                                     45.230426  \n",
       "std                                      22.239948  \n",
       "min                                      14.032975  \n",
       "25%                                      29.258913  \n",
       "50%                                      38.649369  \n",
       "75%                                      56.580349  \n",
       "max                                     138.277049  "
      ]
     },
     "execution_count": 29,
     "metadata": {},
     "output_type": "execute_result"
    }
   ],
   "source": [
    "df_teffija_penprov[['Accesos telefonía fija por cada 100 hab', 'Accesos telefonía fija por cada 100 hogares']].describe()"
   ]
  },
  {
   "cell_type": "code",
   "execution_count": 30,
   "metadata": {},
   "outputs": [
    {
     "data": {
      "image/png": "[encoded data removed]",
      "text/plain": [
       "<Figure size 640x480 with 1 Axes>"
      ]
     },
     "metadata": {},
     "output_type": "display_data"
    }
   ],
   "source": [
    "plt.title('Accesos telefonía fija')\n",
    "plt.hist(x=df_teffija_penprov['Accesos telefonía fija por cada 100 hab'], edgecolor='black', linewidth=1, rwidth=0.9)\n",
    "plt.xlabel('Accesos telefonía fija por cada 100 habitantes')\n",
    "plt.ylabel('Ocurrencias')\n",
    "plt.show()"
   ]
  },
  {
   "cell_type": "code",
   "execution_count": 31,
   "metadata": {},
   "outputs": [
    {
     "name": "stdout",
     "output_type": "stream",
     "text": [
      " la mediana es 10.679524091433802\n"
     ]
    }
   ],
   "source": [
    "print(f' la mediana es {median(df_teffija_penprov['Accesos telefonía fija por cada 100 hab'])}')"
   ]
  },
  {
   "cell_type": "code",
   "execution_count": 32,
   "metadata": {},
   "outputs": [
    {
     "data": {
      "image/png": "[encoded data removed]",
      "text/plain": [
       "<Figure size 640x480 with 1 Axes>"
      ]
     },
     "metadata": {},
     "output_type": "display_data"
    }
   ],
   "source": [
    "plt.boxplot(df_teffija_penprov['Accesos telefonía fija por cada 100 hab'])\n",
    "plt.title('Accesos telefonía fija por cada 100 habitantes')\n",
    "plt.xlabel('Accesos telefonía fija')\n",
    "plt.ylabel('Valor')\n",
    "plt.show()"
   ]
  },
  {
   "cell_type": "code",
   "execution_count": 33,
   "metadata": {},
   "outputs": [
    {
     "data": {
      "text/plain": [
       "['SMS',\n",
       " 'Llamadas salientes',\n",
       " 'Minutos salientes',\n",
       " 'Ingresos',\n",
       " 'Penetracion',\n",
       " 'Accesos',\n",
       " 'Hoja1']"
      ]
     },
     "execution_count": 33,
     "metadata": {},
     "output_type": "execute_result"
    }
   ],
   "source": [
    "sheets_tefmovil = pd.ExcelFile('C:/Python/Data Science/Proyecto_2/Datasets/telefonia_movil.xlsx').sheet_names\n",
    "sheets_tefmovil"
   ]
  },
  {
   "cell_type": "code",
   "execution_count": 34,
   "metadata": {},
   "outputs": [
    {
     "name": "stdout",
     "output_type": "stream",
     "text": [
      "Shape: (46, 4)\n",
      "\n",
      "    Año  Trimestre  Accesos por cada 100 hab       Periodo\n",
      "0  2013          1                    154.37  Ene-Mar 2013\n",
      "1  2013          2                    156.00  Abr-Jun 2013\n"
     ]
    }
   ],
   "source": [
    "df_tefmov_pentot = pd.read_excel('C:/Python/Data Science/Proyecto_2/Datasets/telefonia_movil.xlsx', sheet_name='Penetracion')\n",
    "print(f'Shape: {df_tefmov_pentot.shape}\\n')\n",
    "print(f'{df_tefmov_pentot.head(2)}')"
   ]
  },
  {
   "cell_type": "code",
   "execution_count": 35,
   "metadata": {},
   "outputs": [
    {
     "data": {
      "text/plain": [
       "count     46.000000\n",
       "mean     135.901926\n",
       "std       10.032485\n",
       "min      120.180000\n",
       "25%      128.492500\n",
       "50%      133.838767\n",
       "75%      142.722500\n",
       "max      159.370000\n",
       "Name: Accesos por cada 100 hab, dtype: float64"
      ]
     },
     "execution_count": 35,
     "metadata": {},
     "output_type": "execute_result"
    }
   ],
   "source": [
    "df_tefmov_pentot['Accesos por cada 100 hab'].describe()"
   ]
  },
  {
   "cell_type": "code",
   "execution_count": 36,
   "metadata": {},
   "outputs": [
    {
     "data": {
      "image/png": "[encoded data removed]",
      "text/plain": [
       "<Figure size 640x480 with 1 Axes>"
      ]
     },
     "metadata": {},
     "output_type": "display_data"
    }
   ],
   "source": [
    "plt.title('Accesos telefonía móvil')\n",
    "plt.hist(x=df_tefmov_pentot['Accesos por cada 100 hab'], edgecolor='black', linewidth=1, rwidth=0.9)\n",
    "plt.xlabel('Accesos telefonía móvil por cada 100 habitantes')\n",
    "plt.ylabel('Ocurrencias')\n",
    "plt.show()"
   ]
  },
  {
   "cell_type": "code",
   "execution_count": 37,
   "metadata": {},
   "outputs": [
    {
     "name": "stdout",
     "output_type": "stream",
     "text": [
      " la mediana es 133.83876716977502 y el promedio 135.90192646494353\n"
     ]
    }
   ],
   "source": [
    "media = median(df_tefmov_pentot['Accesos por cada 100 hab'])\n",
    "promedio = df_tefmov_pentot['Accesos por cada 100 hab'].mean()\n",
    "\n",
    "print(f' la mediana es {media} y el promedio {promedio}') #La distribución es asimétrica"
   ]
  },
  {
   "cell_type": "code",
   "execution_count": 38,
   "metadata": {},
   "outputs": [
    {
     "data": {
      "image/png": "[encoded data removed]",
      "text/plain": [
       "<Figure size 640x480 with 1 Axes>"
      ]
     },
     "metadata": {},
     "output_type": "display_data"
    }
   ],
   "source": [
    "plt.boxplot(df_tefmov_pentot['Accesos por cada 100 hab'])\n",
    "plt.title('Accesos telefonía móvil por cada 100 habitantes')\n",
    "plt.xlabel('Accesos telefonía móvil')\n",
    "plt.ylabel('Valor')\n",
    "plt.show()"
   ]
  },
  {
   "cell_type": "markdown",
   "metadata": {},
   "source": [
    "Combinación de datasets para el EDA"
   ]
  },
  {
   "cell_type": "code",
   "execution_count": 39,
   "metadata": {},
   "outputs": [],
   "source": [
    "#Creamos el primer dataset unificado con datos de internet y telefonía fija que contienen las columnas 'Año', 'Provincia' y 'Trimestre'\n",
    "# Primero, se une los primeros dos DataFrames\n",
    "df_int_tfij = pd.merge(df_int_accptech, df_int_velprov, on=['Año', 'Provincia', 'Trimestre'], how='inner')\n",
    "# Luego, unimos el resultado al tercero\n",
    "df_int_tfij = pd.merge(df_int_tfij, df_int_penpob, on=['Año', 'Provincia', 'Trimestre'], how='inner')\n",
    "# unimos el cuarto\n",
    "df_int_tfij = pd.merge(df_int_tfij, df_int_penhog, on=['Año', 'Provincia', 'Trimestre'], how='inner')\n",
    "# y por último quinto\n",
    "df_int_tfij = pd.merge(df_int_tfij, df_teffija_penprov, on=['Año', 'Provincia', 'Trimestre'], how='inner')\n",
    "\n"
   ]
  },
  {
   "cell_type": "code",
   "execution_count": 40,
   "metadata": {},
   "outputs": [],
   "source": [
    "#Creamos el segundo dataset con telefonía móvil y fija que contienen las columnas 'Año' y 'Trimestre'\n",
    "df_teffija_pentot = pd.read_excel('C:/Python/Data Science/Proyecto_2/Datasets/telefonia_fija.xlsx', sheet_name='Fija_penetracion_tot')\n",
    "df_tmov_tfij = pd.merge(df_tefmov_pentot, df_teffija_pentot, on=['Año', 'Trimestre'], how='inner')"
   ]
  },
  {
   "cell_type": "code",
   "execution_count": 41,
   "metadata": {},
   "outputs": [],
   "source": [
    "# cambiamos el nombre de las columnas para identificarlas de mejor manera\n",
    "df_int_tfij.columns = ['Año', 'Trimestre', 'Provincia', 'Acceso por ADSL', 'Acceso por cablemodem', 'Acceso por fibra optica',\n",
    "                    'Acceso por wireless', 'Acceso por otros', 'Total accesos por tecnologia', 'Mbps (Media de bajada)',\n",
    "                    'Accesos internet por cada 100 hab', 'Accesos internet por cada 100 hogares', 'Accesos telefonía fija por cada 100 hab', 'Accesos telefonía fija por cada 100 hogares']\n",
    "\n",
    "df_tmov_tfij.columns = ['Año', 'Trimestre', 'Accesos telefonía movil por cada 100 hab', 'Periodo', 'Accesos telefonía fija por cada 100 hab',\n",
    "                    'Accesos telefonía fija por cada 100 hogares']"
   ]
  },
  {
   "cell_type": "code",
   "execution_count": 42,
   "metadata": {},
   "outputs": [],
   "source": [
    "# modificamos la posición de la columna periodo para que el dataset se vea un poco más estético\n",
    "columna = df_tmov_tfij.pop('Periodo')\n",
    "df_tmov_tfij.insert(2, 'Periodo', columna)"
   ]
  },
  {
   "cell_type": "markdown",
   "metadata": {},
   "source": [
    "Preparamos el excel del mapa de conectividad para extraer la población y unirla al dataframe df_int_tfij con el fin de evaluar mejor las propuestas de crecimiento en base a la densidad poblacional"
   ]
  },
  {
   "cell_type": "code",
   "execution_count": 43,
   "metadata": {},
   "outputs": [
    {
     "data": {
      "text/plain": [
       "['Hoja3']"
      ]
     },
     "execution_count": 43,
     "metadata": {},
     "output_type": "execute_result"
    }
   ],
   "source": [
    "sheets_mapa = pd.ExcelFile('C:/Python/Data Science/Proyecto_2/Datasets/mapa_conectividad.xlsx').sheet_names\n",
    "sheets_mapa"
   ]
  },
  {
   "cell_type": "code",
   "execution_count": 44,
   "metadata": {},
   "outputs": [
    {
     "name": "stdout",
     "output_type": "stream",
     "text": [
      "      Provincia     Partido        Localidad  Población ADSL Cablemódem  \\\n",
      "0  BUENOS AIRES  25 de Mayo       25 de Mayo      23408   SI         SI   \n",
      "1  BUENOS AIRES  25 de Mayo  Agustín Mosconi        280   --         --   \n",
      "\n",
      "  Dial Up Fibra óptica Satelital Wireless Telefonía Fija  3G  4G       Link  \\\n",
      "0      --           --        SI       SI             SI  SI  SI  6854100.0   \n",
      "1      --           --        --       --             SI  --  --  6854010.0   \n",
      "\n",
      "     Latitud   Longitud  \n",
      "0 -35.433939 -60.173121  \n",
      "1 -35.739217 -60.559063  \n"
     ]
    }
   ],
   "source": [
    "df_mapa = pd.read_excel('C:/Python/Data Science/Proyecto_2/Datasets/mapa_conectividad.xlsx', sheet_name='Hoja3')\n",
    "print(f'{df_mapa.head(2)}')"
   ]
  },
  {
   "cell_type": "code",
   "execution_count": 45,
   "metadata": {},
   "outputs": [
    {
     "name": "stdout",
     "output_type": "stream",
     "text": [
      "Dtype & Shape: \n",
      "Provincia          object\n",
      "Partido            object\n",
      "Localidad          object\n",
      "Población           int64\n",
      "ADSL               object\n",
      "Cablemódem         object\n",
      "Dial Up            object\n",
      "Fibra óptica       object\n",
      "Satelital          object\n",
      "Wireless           object\n",
      "Telefonía Fija     object\n",
      "3G                 object\n",
      "4G                 object\n",
      "Link              float64\n",
      "Latitud           float64\n",
      "Longitud          float64\n",
      "dtype: object(4305, 16)\n",
      "\n"
     ]
    }
   ],
   "source": [
    "print(f'Dtype & Shape: \\n{df_mapa.dtypes}{df_mapa.shape}\\n')"
   ]
  },
  {
   "cell_type": "code",
   "execution_count": 46,
   "metadata": {},
   "outputs": [
    {
     "name": "stdout",
     "output_type": "stream",
     "text": [
      "Duplicados:        0\n",
      "Nulos: \n",
      "Provincia          0\n",
      "Partido            0\n",
      "Localidad          0\n",
      "Población          0\n",
      "ADSL               0\n",
      "Cablemódem         0\n",
      "Dial Up            0\n",
      "Fibra óptica       0\n",
      "Satelital          0\n",
      "Wireless           0\n",
      "Telefonía Fija     0\n",
      "3G                 0\n",
      "4G                 0\n",
      "Link              12\n",
      "Latitud            0\n",
      "Longitud           0\n",
      "dtype: int64\n",
      "\n"
     ]
    }
   ],
   "source": [
    "print(f'Duplicados:        {df_mapa.duplicated().sum()}\\nNulos: \\n{df_mapa.isnull().sum()}\\n')"
   ]
  },
  {
   "cell_type": "code",
   "execution_count": 47,
   "metadata": {},
   "outputs": [
    {
     "name": "stdout",
     "output_type": "stream",
     "text": [
      "  ADSL Cablemódem Dial Up Fibra óptica Satelital Wireless Telefonía Fija  3G  \\\n",
      "0   SI         SI      --           --        SI       SI             SI  SI   \n",
      "1   --         --      SI           SI        --       --             --  --   \n",
      "\n",
      "   4G  \n",
      "0  SI  \n",
      "1  --  \n"
     ]
    }
   ],
   "source": [
    "df_mapa.drop(columns='Link', inplace=True) #Elimino la columna que contiene nulos y no usaré para mi estudio\n",
    "#Trato la columnas referentes a la disponibilidad del tipo de servicio\n",
    "columnas = ['ADSL', 'Cablemódem','Dial Up', 'Fibra óptica', 'Satelital', 'Wireless', 'Telefonía Fija', '3G', '4G'] #Determino las columnas a analizar\n",
    "unicos = df_mapa[columnas].apply(lambda col: col.unique())   #Reviso lo valores únicos\n",
    "print(unicos)"
   ]
  },
  {
   "cell_type": "code",
   "execution_count": 48,
   "metadata": {},
   "outputs": [],
   "source": [
    "# Diccionario de reemplazo\n",
    "reemplazo = {\n",
    "                '--': 0,\n",
    "                'SI': 1,\n",
    "                            }\n",
    "\n",
    "# Columnas seleccionadas\n",
    "columnas = ['ADSL', 'Cablemódem', 'Dial Up', 'Fibra óptica', 'Satelital', 'Wireless', 'Telefonía Fija', '3G', '4G' ]\n",
    "\n",
    "# Aplicar mapeo sin usar replace()\n",
    "df_mapa[columnas] = df_mapa[columnas].map(lambda x: reemplazo.get(x, x))  # Si no está en el diccionario, deja el valor original.\n"
   ]
  },
  {
   "cell_type": "code",
   "execution_count": 49,
   "metadata": {},
   "outputs": [
    {
     "data": {
      "text/html": [
       "<div>\n",
       "<style scoped>\n",
       "    .dataframe tbody tr th:only-of-type {\n",
       "        vertical-align: middle;\n",
       "    }\n",
       "\n",
       "    .dataframe tbody tr th {\n",
       "        vertical-align: top;\n",
       "    }\n",
       "\n",
       "    .dataframe thead th {\n",
       "        text-align: right;\n",
       "    }\n",
       "</style>\n",
       "<table border=\"1\" class=\"dataframe\">\n",
       "  <thead>\n",
       "    <tr style=\"text-align: right;\">\n",
       "      <th></th>\n",
       "      <th>Provincia</th>\n",
       "      <th>Partido</th>\n",
       "      <th>Localidad</th>\n",
       "      <th>Población</th>\n",
       "      <th>ADSL</th>\n",
       "      <th>Cablemódem</th>\n",
       "      <th>Dial Up</th>\n",
       "      <th>Fibra óptica</th>\n",
       "      <th>Satelital</th>\n",
       "      <th>Wireless</th>\n",
       "      <th>Telefonía Fija</th>\n",
       "      <th>3G</th>\n",
       "      <th>4G</th>\n",
       "      <th>Latitud</th>\n",
       "      <th>Longitud</th>\n",
       "    </tr>\n",
       "  </thead>\n",
       "  <tbody>\n",
       "    <tr>\n",
       "      <th>0</th>\n",
       "      <td>BUENOS AIRES</td>\n",
       "      <td>25 de Mayo</td>\n",
       "      <td>25 de Mayo</td>\n",
       "      <td>23408</td>\n",
       "      <td>1</td>\n",
       "      <td>1</td>\n",
       "      <td>0</td>\n",
       "      <td>0</td>\n",
       "      <td>1</td>\n",
       "      <td>1</td>\n",
       "      <td>1</td>\n",
       "      <td>1</td>\n",
       "      <td>1</td>\n",
       "      <td>-35.433939</td>\n",
       "      <td>-60.173121</td>\n",
       "    </tr>\n",
       "    <tr>\n",
       "      <th>1</th>\n",
       "      <td>BUENOS AIRES</td>\n",
       "      <td>25 de Mayo</td>\n",
       "      <td>Agustín Mosconi</td>\n",
       "      <td>280</td>\n",
       "      <td>0</td>\n",
       "      <td>0</td>\n",
       "      <td>0</td>\n",
       "      <td>0</td>\n",
       "      <td>0</td>\n",
       "      <td>0</td>\n",
       "      <td>1</td>\n",
       "      <td>0</td>\n",
       "      <td>0</td>\n",
       "      <td>-35.739217</td>\n",
       "      <td>-60.559063</td>\n",
       "    </tr>\n",
       "    <tr>\n",
       "      <th>2</th>\n",
       "      <td>BUENOS AIRES</td>\n",
       "      <td>25 de Mayo</td>\n",
       "      <td>Del Valle</td>\n",
       "      <td>899</td>\n",
       "      <td>1</td>\n",
       "      <td>0</td>\n",
       "      <td>0</td>\n",
       "      <td>0</td>\n",
       "      <td>1</td>\n",
       "      <td>0</td>\n",
       "      <td>0</td>\n",
       "      <td>1</td>\n",
       "      <td>0</td>\n",
       "      <td>-35.897345</td>\n",
       "      <td>-60.731609</td>\n",
       "    </tr>\n",
       "    <tr>\n",
       "      <th>3</th>\n",
       "      <td>BUENOS AIRES</td>\n",
       "      <td>25 de Mayo</td>\n",
       "      <td>Ernestina</td>\n",
       "      <td>145</td>\n",
       "      <td>1</td>\n",
       "      <td>0</td>\n",
       "      <td>0</td>\n",
       "      <td>0</td>\n",
       "      <td>0</td>\n",
       "      <td>0</td>\n",
       "      <td>1</td>\n",
       "      <td>0</td>\n",
       "      <td>0</td>\n",
       "      <td>-35.270234</td>\n",
       "      <td>-59.557503</td>\n",
       "    </tr>\n",
       "    <tr>\n",
       "      <th>4</th>\n",
       "      <td>BUENOS AIRES</td>\n",
       "      <td>25 de Mayo</td>\n",
       "      <td>Gobernador Ugarte</td>\n",
       "      <td>547</td>\n",
       "      <td>0</td>\n",
       "      <td>0</td>\n",
       "      <td>0</td>\n",
       "      <td>0</td>\n",
       "      <td>0</td>\n",
       "      <td>1</td>\n",
       "      <td>0</td>\n",
       "      <td>0</td>\n",
       "      <td>0</td>\n",
       "      <td>-35.164397</td>\n",
       "      <td>-60.081358</td>\n",
       "    </tr>\n",
       "  </tbody>\n",
       "</table>\n",
       "</div>"
      ],
      "text/plain": [
       "      Provincia     Partido          Localidad  Población  ADSL  Cablemódem  \\\n",
       "0  BUENOS AIRES  25 de Mayo         25 de Mayo      23408     1           1   \n",
       "1  BUENOS AIRES  25 de Mayo    Agustín Mosconi        280     0           0   \n",
       "2  BUENOS AIRES  25 de Mayo          Del Valle        899     1           0   \n",
       "3  BUENOS AIRES  25 de Mayo          Ernestina        145     1           0   \n",
       "4  BUENOS AIRES  25 de Mayo  Gobernador Ugarte        547     0           0   \n",
       "\n",
       "   Dial Up  Fibra óptica  Satelital  Wireless  Telefonía Fija  3G  4G  \\\n",
       "0        0             0          1         1               1   1   1   \n",
       "1        0             0          0         0               1   0   0   \n",
       "2        0             0          1         0               0   1   0   \n",
       "3        0             0          0         0               1   0   0   \n",
       "4        0             0          0         1               0   0   0   \n",
       "\n",
       "     Latitud   Longitud  \n",
       "0 -35.433939 -60.173121  \n",
       "1 -35.739217 -60.559063  \n",
       "2 -35.897345 -60.731609  \n",
       "3 -35.270234 -59.557503  \n",
       "4 -35.164397 -60.081358  "
      ]
     },
     "execution_count": 49,
     "metadata": {},
     "output_type": "execute_result"
    }
   ],
   "source": [
    "df_mapa.head()"
   ]
  },
  {
   "cell_type": "code",
   "execution_count": 50,
   "metadata": {},
   "outputs": [],
   "source": [
    "#Eliminamos las filas donde la población es igual o menor a 10.000 habitantes porque no es de nuestro interés. así enfocamos el negocio en pobabliones\n",
    "#con un mayor potencial de crecimiento\n",
    "df_mapa = df_mapa.loc[df_mapa['Población'] >= 10000]"
   ]
  },
  {
   "cell_type": "code",
   "execution_count": 51,
   "metadata": {},
   "outputs": [],
   "source": [
    "df_int_tfij.to_excel('C:/Python/Data Science/Proyecto_2/Datasets/int_tfij.xlsx', index=False)\n",
    "df_tmov_tfij.to_excel('C:/Python/Data Science/Proyecto_2/Datasets/tmov_tfij.xlsx', index=False)\n",
    "df_mapa.to_excel('C:/Python/Data Science/Proyecto_2/Datasets/mapa.xlsx', index=False)"
   ]
  },
  {
   "cell_type": "markdown",
   "metadata": {},
   "source": [
    "## CALCULOS DE KPIs"
   ]
  },
  {
   "cell_type": "markdown",
   "metadata": {},
   "source": [
    "KPI propuesto es aumentar en un 2% el acceso al servicio de internet para el próximo trimestre, cada 100 hogares, por provincia. La fórmula es la siguiente:\n",
    "\n",
    "KPI=((Nuevo acceso−Acceso actual)/Acceso actual)∗100\n",
    "\n",
    "Donde:\n",
    "\n",
    "\"Nuevo acceso\" se refiere al número de hogares con acceso a Internet después del próximo trimestre.\n",
    "\"Acceso actual\" se refiere al número de hogares con acceso a Internet en el trimestre actual.\n",
    "Esta fórmula te ayudará a calcular el KPI para medir el aumento en el acceso a Internet por cada 100 hogares en cada provincia."
   ]
  },
  {
   "cell_type": "code",
   "execution_count": 52,
   "metadata": {},
   "outputs": [],
   "source": [
    "df_int_penhog = pd.read_excel('C:/Python/Data Science/Proyecto_2/Datasets/Internet.xlsx', sheet_name='Penetracion-hogares')"
   ]
  },
  {
   "cell_type": "code",
   "execution_count": 53,
   "metadata": {},
   "outputs": [
    {
     "data": {
      "text/html": [
       "<div>\n",
       "<style scoped>\n",
       "    .dataframe tbody tr th:only-of-type {\n",
       "        vertical-align: middle;\n",
       "    }\n",
       "\n",
       "    .dataframe tbody tr th {\n",
       "        vertical-align: top;\n",
       "    }\n",
       "\n",
       "    .dataframe thead th {\n",
       "        text-align: right;\n",
       "    }\n",
       "</style>\n",
       "<table border=\"1\" class=\"dataframe\">\n",
       "  <thead>\n",
       "    <tr style=\"text-align: right;\">\n",
       "      <th></th>\n",
       "      <th>Año</th>\n",
       "      <th>Trimestre</th>\n",
       "      <th>Provincia</th>\n",
       "      <th>KPI CH</th>\n",
       "    </tr>\n",
       "  </thead>\n",
       "  <tbody>\n",
       "    <tr>\n",
       "      <th>0</th>\n",
       "      <td>2024</td>\n",
       "      <td>2</td>\n",
       "      <td>Buenos Aires</td>\n",
       "      <td>-0.015536</td>\n",
       "    </tr>\n",
       "    <tr>\n",
       "      <th>24</th>\n",
       "      <td>2024</td>\n",
       "      <td>1</td>\n",
       "      <td>Buenos Aires</td>\n",
       "      <td>0.001729</td>\n",
       "    </tr>\n",
       "    <tr>\n",
       "      <th>48</th>\n",
       "      <td>2023</td>\n",
       "      <td>4</td>\n",
       "      <td>Buenos Aires</td>\n",
       "      <td>0.003968</td>\n",
       "    </tr>\n",
       "    <tr>\n",
       "      <th>72</th>\n",
       "      <td>2023</td>\n",
       "      <td>3</td>\n",
       "      <td>Buenos Aires</td>\n",
       "      <td>0.012175</td>\n",
       "    </tr>\n",
       "    <tr>\n",
       "      <th>96</th>\n",
       "      <td>2023</td>\n",
       "      <td>2</td>\n",
       "      <td>Buenos Aires</td>\n",
       "      <td>0.008481</td>\n",
       "    </tr>\n",
       "  </tbody>\n",
       "</table>\n",
       "</div>"
      ],
      "text/plain": [
       "     Año  Trimestre     Provincia    KPI CH\n",
       "0   2024          2  Buenos Aires -0.015536\n",
       "24  2024          1  Buenos Aires  0.001729\n",
       "48  2023          4  Buenos Aires  0.003968\n",
       "72  2023          3  Buenos Aires  0.012175\n",
       "96  2023          2  Buenos Aires  0.008481"
      ]
     },
     "execution_count": 53,
     "metadata": {},
     "output_type": "execute_result"
    }
   ],
   "source": [
    "# Crear un nuevo DataFrame para los cálculos, asegurando que es una copia\n",
    "df_KPIs_crec = df_int_penhog[['Año', 'Trimestre', 'Provincia', 'Accesos por cada 100 hogares']]\n",
    "df_KPIs_crec.rename(columns={'Accesos por cada 100 hogares': 'Accesos internet por cada 100 hogares'}, inplace=True)\n",
    "\n",
    "# Ordenar por las columnas clave para facilitar el cálculo\n",
    "df_KPIs_crec.sort_values(by=['Provincia', 'Año', 'Trimestre'], ascending=[True, False, False], inplace=True)\n",
    "\n",
    "# Calcular la variación por cada provincia\n",
    "df_KPIs_crec['Incremento'] = df_KPIs_crec.groupby('Provincia')['Accesos internet por cada 100 hogares'].diff(-1)\n",
    "\n",
    "# calcular la variación porcentual para establecer el KPI\n",
    "df_KPIs_crec['KPI CH'] = df_KPIs_crec['Incremento'] / df_KPIs_crec['Accesos internet por cada 100 hogares'].shift(-1) #* 100\n",
    "\n",
    "df_KPIs_crec.drop(columns=['Accesos internet por cada 100 hogares', 'Incremento'], inplace=True) #Elimino las columnas que no se seguirán usando\n",
    "\n",
    "df_KPIs_crec.head()"
   ]
  },
  {
   "cell_type": "markdown",
   "metadata": {},
   "source": [
    "KPI GT (Grade up technology) medirá el crecimiento de accesos por tecnologías modernas vs el total de accesos\n",
    "\n",
    "GT = (accesos cablemodem + accesos fibra óptica) / total de accesos\n",
    "\n",
    "KPI GT = (GT periodo actual - GT periodo nuevo)/periodo actual * 100\n",
    "\n",
    "El KPI propuesto será de 3%, vale decir que se espera como meta que los accesos más rápidos a internet crezcan en razón del 3%"
   ]
  },
  {
   "cell_type": "code",
   "execution_count": 54,
   "metadata": {},
   "outputs": [],
   "source": [
    "df_KPIs_GT = pd.read_excel('C:/Python/Data Science/Proyecto_2/Datasets/Internet.xlsx', sheet_name='Accesos Por Tecnología')\n",
    "df_KPIs_GT['Cablemodem_Fibraoptica'] = df_KPIs_GT['Cablemodem'] + df_KPIs_GT['Fibra óptica']\n",
    "df_KPIs_GT.drop(columns=['ADSL', 'Cablemodem', 'Fibra óptica', 'Wireless', 'Otros'], inplace=True)"
   ]
  },
  {
   "cell_type": "code",
   "execution_count": 55,
   "metadata": {},
   "outputs": [],
   "source": [
    "#Quitamos los asteriscos para normalizar el dataframe\n",
    "df_KPIs_GT.dropna(inplace=True)\n",
    "df_KPIs_GT['Año'] = df_KPIs_GT['Año'].astype(str).str.replace(' *', '').astype(int)\n",
    "df_KPIs_GT['Trimestre'] = df_KPIs_GT['Trimestre'].astype(str).str.replace(' *', '').astype(int) "
   ]
  },
  {
   "cell_type": "code",
   "execution_count": 56,
   "metadata": {},
   "outputs": [],
   "source": [
    "df_KPIs_GT['GT'] = df_KPIs_GT['Cablemodem_Fibraoptica']/df_KPIs_GT['Total'] #Creo la columna GT para el cálculo final del KPI \n",
    "                                                                            #que divide la suma de accesos cable modem y fibra optica \n",
    "                                                                            #y la divide por el total\n",
    "df_KPIs_GT.drop(columns=['Total', 'Cablemodem_Fibraoptica'], inplace=True) #Elimino las columnas que no se seguirán usando"
   ]
  },
  {
   "cell_type": "code",
   "execution_count": 57,
   "metadata": {},
   "outputs": [],
   "source": [
    "valor = df_KPIs_GT.loc[(df_KPIs_GT['Provincia'] == 'Buenos Aires') & \n",
    "                        (df_KPIs_GT['Año'] == 2023) & \n",
    "                        (df_KPIs_GT['Trimestre'] == 4), 'GT'].values[0]\n",
    "\n",
    "df_KPIs_GT.loc[1] =  [2024, 1, 'Buenos Aires', valor] #Agrego el valor que falta del primer trimestre de 2024 para Buenos Aires"
   ]
  },
  {
   "cell_type": "code",
   "execution_count": 58,
   "metadata": {},
   "outputs": [],
   "source": [
    "# Ordenar por las columnas clave para facilitar el cálculo\n",
    "df_KPIs_GT.sort_values(by=['Provincia', 'Año', 'Trimestre'], ascending=[True, False, False], inplace=True)\n",
    "\n",
    "# Calcular la variación por cada provincia\n",
    "df_KPIs_GT['Incremento'] = df_KPIs_GT.groupby('Provincia')['GT'].diff(-1)\n",
    "\n",
    "# calcular la variación porcentual para establecer el KPI\n",
    "df_KPIs_GT['KPI GT'] = df_KPIs_GT['Incremento'] / df_KPIs_GT['GT'].shift(-1) #* 100"
   ]
  },
  {
   "cell_type": "code",
   "execution_count": 59,
   "metadata": {},
   "outputs": [
    {
     "data": {
      "text/html": [
       "<div>\n",
       "<style scoped>\n",
       "    .dataframe tbody tr th:only-of-type {\n",
       "        vertical-align: middle;\n",
       "    }\n",
       "\n",
       "    .dataframe tbody tr th {\n",
       "        vertical-align: top;\n",
       "    }\n",
       "\n",
       "    .dataframe thead th {\n",
       "        text-align: right;\n",
       "    }\n",
       "</style>\n",
       "<table border=\"1\" class=\"dataframe\">\n",
       "  <thead>\n",
       "    <tr style=\"text-align: right;\">\n",
       "      <th></th>\n",
       "      <th>Año</th>\n",
       "      <th>Trimestre</th>\n",
       "      <th>Provincia</th>\n",
       "      <th>KPI GT</th>\n",
       "    </tr>\n",
       "  </thead>\n",
       "  <tbody>\n",
       "    <tr>\n",
       "      <th>0</th>\n",
       "      <td>2024</td>\n",
       "      <td>2</td>\n",
       "      <td>Buenos Aires</td>\n",
       "      <td>0.002188</td>\n",
       "    </tr>\n",
       "    <tr>\n",
       "      <th>1</th>\n",
       "      <td>2024</td>\n",
       "      <td>1</td>\n",
       "      <td>Buenos Aires</td>\n",
       "      <td>0.000000</td>\n",
       "    </tr>\n",
       "    <tr>\n",
       "      <th>47</th>\n",
       "      <td>2023</td>\n",
       "      <td>4</td>\n",
       "      <td>Buenos Aires</td>\n",
       "      <td>0.004025</td>\n",
       "    </tr>\n",
       "    <tr>\n",
       "      <th>71</th>\n",
       "      <td>2023</td>\n",
       "      <td>3</td>\n",
       "      <td>Buenos Aires</td>\n",
       "      <td>0.008306</td>\n",
       "    </tr>\n",
       "    <tr>\n",
       "      <th>95</th>\n",
       "      <td>2023</td>\n",
       "      <td>2</td>\n",
       "      <td>Buenos Aires</td>\n",
       "      <td>0.009736</td>\n",
       "    </tr>\n",
       "  </tbody>\n",
       "</table>\n",
       "</div>"
      ],
      "text/plain": [
       "     Año  Trimestre     Provincia    KPI GT\n",
       "0   2024          2  Buenos Aires  0.002188\n",
       "1   2024          1  Buenos Aires  0.000000\n",
       "47  2023          4  Buenos Aires  0.004025\n",
       "71  2023          3  Buenos Aires  0.008306\n",
       "95  2023          2  Buenos Aires  0.009736"
      ]
     },
     "execution_count": 59,
     "metadata": {},
     "output_type": "execute_result"
    }
   ],
   "source": [
    "df_KPIs_GT.drop(columns=['GT', 'Incremento'], inplace=True) #Elimino las columnas que no se seguirán usando\n",
    "df_KPIs_GT.head()"
   ]
  },
  {
   "cell_type": "markdown",
   "metadata": {},
   "source": [
    "KPI IV (Incremento en velocidad media) medirá el aumento de la velocidad de internet por provincia\n",
    "\n",
    "Incremento de velocidad = Mbps (media de bajada) periodo actual - Mbps (media de bajada) anterior\n",
    "\n",
    "IV = (Mbps (media de bajada) periodo actual - Mbps (media de bajada) anterior) / Mbps (media de bajada) anterior\n",
    "\n",
    "KPI IV = (IV periodo actual - IV periodo nuevo)/periodo actual * 100\n",
    "\n",
    "El KPI propuesto será de 3%, vale decir que se espera como meta que la velocidad a internet crezcan en razón del 3%"
   ]
  },
  {
   "cell_type": "code",
   "execution_count": 60,
   "metadata": {},
   "outputs": [],
   "source": [
    "df_KPIs_IVM = pd.read_excel('C:/Python/Data Science/Proyecto_2/Datasets/Internet.xlsx', sheet_name='Velocidad % por prov')\n",
    "\n",
    "# Ordenar por las columnas clave para facilitar el cálculo\n",
    "df_KPIs_IVM.sort_values(by=['Provincia', 'Año', 'Trimestre'], ascending=[True, False, False], inplace=True)\n",
    "\n",
    "# Calcular la variación por cada provincia\n",
    "df_KPIs_IVM['Variacion'] = df_KPIs_IVM.groupby('Provincia')['Mbps (Media de bajada)'].diff(-1)\n",
    "\n",
    "# calcular la variación porcentual para establecer el KPI\n",
    "df_KPIs_IVM['KPI IVM'] = df_KPIs_IVM['Variacion'] / df_KPIs_IVM['Mbps (Media de bajada)'].shift(-1) #* 100\n",
    "\n",
    "df_KPIs_IVM.drop(columns=['Mbps (Media de bajada)', 'Variacion'], inplace=True) #Elimino las columnas que no se seguirán usando\n"
   ]
  },
  {
   "cell_type": "code",
   "execution_count": 61,
   "metadata": {},
   "outputs": [
    {
     "data": {
      "text/html": [
       "<div>\n",
       "<style scoped>\n",
       "    .dataframe tbody tr th:only-of-type {\n",
       "        vertical-align: middle;\n",
       "    }\n",
       "\n",
       "    .dataframe tbody tr th {\n",
       "        vertical-align: top;\n",
       "    }\n",
       "\n",
       "    .dataframe thead th {\n",
       "        text-align: right;\n",
       "    }\n",
       "</style>\n",
       "<table border=\"1\" class=\"dataframe\">\n",
       "  <thead>\n",
       "    <tr style=\"text-align: right;\">\n",
       "      <th></th>\n",
       "      <th>Año</th>\n",
       "      <th>Trimestre</th>\n",
       "      <th>Provincia</th>\n",
       "      <th>KPI IVM</th>\n",
       "    </tr>\n",
       "  </thead>\n",
       "  <tbody>\n",
       "    <tr>\n",
       "      <th>0</th>\n",
       "      <td>2024</td>\n",
       "      <td>2</td>\n",
       "      <td>Buenos Aires</td>\n",
       "      <td>-0.010809</td>\n",
       "    </tr>\n",
       "    <tr>\n",
       "      <th>24</th>\n",
       "      <td>2024</td>\n",
       "      <td>1</td>\n",
       "      <td>Buenos Aires</td>\n",
       "      <td>0.004038</td>\n",
       "    </tr>\n",
       "    <tr>\n",
       "      <th>48</th>\n",
       "      <td>2023</td>\n",
       "      <td>4</td>\n",
       "      <td>Buenos Aires</td>\n",
       "      <td>0.079338</td>\n",
       "    </tr>\n",
       "    <tr>\n",
       "      <th>72</th>\n",
       "      <td>2023</td>\n",
       "      <td>3</td>\n",
       "      <td>Buenos Aires</td>\n",
       "      <td>0.061366</td>\n",
       "    </tr>\n",
       "    <tr>\n",
       "      <th>96</th>\n",
       "      <td>2023</td>\n",
       "      <td>2</td>\n",
       "      <td>Buenos Aires</td>\n",
       "      <td>0.190825</td>\n",
       "    </tr>\n",
       "  </tbody>\n",
       "</table>\n",
       "</div>"
      ],
      "text/plain": [
       "     Año  Trimestre     Provincia   KPI IVM\n",
       "0   2024          2  Buenos Aires -0.010809\n",
       "24  2024          1  Buenos Aires  0.004038\n",
       "48  2023          4  Buenos Aires  0.079338\n",
       "72  2023          3  Buenos Aires  0.061366\n",
       "96  2023          2  Buenos Aires  0.190825"
      ]
     },
     "execution_count": 61,
     "metadata": {},
     "output_type": "execute_result"
    }
   ],
   "source": [
    "df_KPIs_IVM.head()"
   ]
  },
  {
   "cell_type": "code",
   "execution_count": 62,
   "metadata": {},
   "outputs": [
    {
     "data": {
      "text/html": [
       "<div>\n",
       "<style scoped>\n",
       "    .dataframe tbody tr th:only-of-type {\n",
       "        vertical-align: middle;\n",
       "    }\n",
       "\n",
       "    .dataframe tbody tr th {\n",
       "        vertical-align: top;\n",
       "    }\n",
       "\n",
       "    .dataframe thead th {\n",
       "        text-align: right;\n",
       "    }\n",
       "</style>\n",
       "<table border=\"1\" class=\"dataframe\">\n",
       "  <thead>\n",
       "    <tr style=\"text-align: right;\">\n",
       "      <th></th>\n",
       "      <th>Año</th>\n",
       "      <th>Trimestre</th>\n",
       "      <th>Provincia</th>\n",
       "      <th>KPI CH</th>\n",
       "      <th>KPI GT</th>\n",
       "      <th>KPI IVM</th>\n",
       "    </tr>\n",
       "  </thead>\n",
       "  <tbody>\n",
       "    <tr>\n",
       "      <th>0</th>\n",
       "      <td>2024</td>\n",
       "      <td>2</td>\n",
       "      <td>Buenos Aires</td>\n",
       "      <td>-0.015536</td>\n",
       "      <td>0.002188</td>\n",
       "      <td>-0.010809</td>\n",
       "    </tr>\n",
       "    <tr>\n",
       "      <th>1</th>\n",
       "      <td>2024</td>\n",
       "      <td>1</td>\n",
       "      <td>Buenos Aires</td>\n",
       "      <td>0.001729</td>\n",
       "      <td>0.000000</td>\n",
       "      <td>0.004038</td>\n",
       "    </tr>\n",
       "    <tr>\n",
       "      <th>2</th>\n",
       "      <td>2023</td>\n",
       "      <td>4</td>\n",
       "      <td>Buenos Aires</td>\n",
       "      <td>0.003968</td>\n",
       "      <td>0.004025</td>\n",
       "      <td>0.079338</td>\n",
       "    </tr>\n",
       "    <tr>\n",
       "      <th>3</th>\n",
       "      <td>2023</td>\n",
       "      <td>3</td>\n",
       "      <td>Buenos Aires</td>\n",
       "      <td>0.012175</td>\n",
       "      <td>0.008306</td>\n",
       "      <td>0.061366</td>\n",
       "    </tr>\n",
       "    <tr>\n",
       "      <th>4</th>\n",
       "      <td>2023</td>\n",
       "      <td>2</td>\n",
       "      <td>Buenos Aires</td>\n",
       "      <td>0.008481</td>\n",
       "      <td>0.009736</td>\n",
       "      <td>0.190825</td>\n",
       "    </tr>\n",
       "  </tbody>\n",
       "</table>\n",
       "</div>"
      ],
      "text/plain": [
       "    Año  Trimestre     Provincia    KPI CH    KPI GT   KPI IVM\n",
       "0  2024          2  Buenos Aires -0.015536  0.002188 -0.010809\n",
       "1  2024          1  Buenos Aires  0.001729  0.000000  0.004038\n",
       "2  2023          4  Buenos Aires  0.003968  0.004025  0.079338\n",
       "3  2023          3  Buenos Aires  0.012175  0.008306  0.061366\n",
       "4  2023          2  Buenos Aires  0.008481  0.009736  0.190825"
      ]
     },
     "execution_count": 62,
     "metadata": {},
     "output_type": "execute_result"
    }
   ],
   "source": [
    "#Combinamos los dataframes a través de las columnas 'Año', 'Provincia' y 'Trimestre'\n",
    "# Primero, se une los primeros dos DataFrames\n",
    "df_KPIs = pd.merge(df_KPIs_crec, df_KPIs_GT, on=['Año', 'Provincia', 'Trimestre'], how='inner')\n",
    "# Luego, unimos el resultado al tercero\n",
    "df_KPIs = pd.merge(df_KPIs, df_KPIs_IVM, on=['Año', 'Provincia', 'Trimestre'], how='inner')\n",
    "\n",
    "df_KPIs.dropna(inplace=True) #Elimino los valores nulos producto del cálculo de los kpi\n",
    "\n",
    "df_KPIs.head()\n"
   ]
  },
  {
   "cell_type": "code",
   "execution_count": 64,
   "metadata": {},
   "outputs": [],
   "source": [
    "df_KPIs.to_excel('C:/Python/Data Science/Proyecto_2/Datasets/KPIs.xlsx', index=False)"
   ]
  }
 ],
 "metadata": {
  "kernelspec": {
   "display_name": "proyectodos",
   "language": "python",
   "name": "python3"
  },
  "language_info": {
   "codemirror_mode": {
    "name": "ipython",
    "version": 3
   },
   "file_extension": ".py",
   "mimetype": "text/x-python",
   "name": "python",
   "nbconvert_exporter": "python",
   "pygments_lexer": "ipython3",
   "version": "3.13.0"
  }
 },
 "nbformat": 4,
 "nbformat_minor": 2
}
